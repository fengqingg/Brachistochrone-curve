{
 "cells": [
  {
   "cell_type": "code",
   "execution_count": 1,
   "metadata": {},
   "outputs": [],
   "source": [
    "import numpy as np\n",
    "import matplotlib.pyplot as plt\n",
    "\n",
    "g = 9.8"
   ]
  },
  {
   "cell_type": "markdown",
   "metadata": {},
   "source": [
    "We want to solve the EOM of a ball falling down a curve. If the  curve is given by an equation $y(x) = f(x)$ we can define the tangent angle $\\tg{\\theta} = -dy/dx$. This enables us to write the mechanics of the system as\n",
    "\n",
    "\\begin{cases}\n",
    "    \\frac{dx}{dt} = v\\cos{\\theta} \\\\\n",
    "    \\frac{dy}{dt} = v\\sin{\\theta} \\\\\n",
    "    \\frac{dv}{dt} = g\\sin{\\theta}\n",
    "\\end{cases}\n",
    "\n",
    "where,\n",
    "\n",
    "$\\cos{\\theta} = \\frac{1}{\\sqrt{1+f'(x)^2}}$\n",
    "\n",
    "$\\sin{\\theta} = \\frac{-f'(x)}{\\sqrt{1+f'(x)^2}}$\n",
    "\n",
    "In our case we will model the curve as,\n",
    "\n",
    "$f(x) = -x + a\\sin{x} + b\\sin{2x} + c\\sin{3x} + d\\sin{4x}$\n",
    "\n",
    "for given constants $a$, $b$, $c$, $d$.\n",
    "\n",
    "This system of ODEs is already writen in a form suitable for the use of RK4, and the equation for $y$ is meaningless because it's  a constraint on the system ($y(t)  = f(x(t))$)\n",
    "\n",
    "We will first define the RK4 method including a set of parameters that will be $a,b,c,d$ in $f(x)$. Also, because we want to ultimately get $T(a,b,c,d)$ the final time it takes the ball to reach $x = \\pi$ depending on the parameter $a,b,c,d$, we will also modify the RK4 method to stop when $x = x_f$, a final position that can be an inputto the integrator."
   ]
  },
  {
   "cell_type": "code",
   "execution_count": 2,
   "metadata": {},
   "outputs": [],
   "source": [
    "def rungeKutta4(operator, initCond, finalPos, initTime, dt, params):\n",
    "    ''' \n",
    "    Modification of the RK4 method that integrates only until x(t) reaches an amount (pi in this problem).\n",
    "    \n",
    "    Parameters\n",
    "        ----------\n",
    "        operator  : function\n",
    "            function of time (: float) and the y (: float / numpy.array)\n",
    "            NOTICE: it must a function of both variables even if not explicitly dependent on both\n",
    "            For instance:   lambda t, y: np.sin(y)    and not     lambda y: np.sin(y) \n",
    "        initCond  : float / numpy.array\n",
    "            initial condition, i.e. y(t = initial time)\n",
    "        finalPos: float\n",
    "            final position to integrate\n",
    "        initTime  : float\n",
    "            initial time\n",
    "        dt        : float\n",
    "            time interval\n",
    "        params     : float\n",
    "            arguments passed down to the derivative function, in our case a,b,c,d\n",
    "        \n",
    "    Returns\n",
    "        ----------\n",
    "        times : numpy.array\n",
    "            numpy array of all the calculated times\n",
    "        solution : numpy.array\n",
    "            numpy array of all the calculated y's\n",
    "    '''\n",
    "    a, b, c, d = params #This probably not the cleanest way to deal with the arguments\n",
    "    \n",
    "    times = [initTime]\n",
    "    solut = [initCond]\n",
    "\n",
    "    #Because we drop the ball from position x = 0  with null velocity\n",
    "    #It will only move forward. We will run the script until\n",
    "    #the ball reaches the desired finalPos or if it stops before (check if velocity falls under threshold)\n",
    "\n",
    "    while solut[-1][0] <= finalPos:\n",
    "        k1 = dt * operator(times[-1], solut[-1], a, b, c, d)\n",
    "        k2 = dt * operator(times[-1] + dt/2, solut[-1] + k1/2, a, b, c, d)\n",
    "        k3 = dt * operator(times[-1] + dt/2, solut[-1] + k2/2, a, b, c, d)\n",
    "        k4 = dt * operator(times[-1] + dt, solut[-1] + k3, a, b, c, d)\n",
    "        solut.append(solut[-1] + (k1 + 2*k2 + 2*k3 + k4)/6)\n",
    "        times.append(times[-1]+dt)\n",
    "        if times[-1] > 10:\n",
    "            return times, np.array(solut)\n",
    "    return times, np.array(solut)"
   ]
  },
  {
   "cell_type": "markdown",
   "metadata": {},
   "source": [
    "Now we define the function and its first derivative"
   ]
  },
  {
   "cell_type": "code",
   "execution_count": 3,
   "metadata": {},
   "outputs": [],
   "source": [
    "def f(x, a, b, c, d):\n",
    "    '''\n",
    "    The slope for the integration defined above\n",
    "    '''\n",
    "    return -x + a*np.sin(x) + b*np.sin(2*x) + c*np.sin(3*x) +  d*np.sin(4*x)\n",
    "\n",
    "#We also need the derivatives of the slope\n",
    "\n",
    "def df(x, a, b, c, d):\n",
    "    '''\n",
    "    First derivative of the slope\n",
    "    '''\n",
    "    return -1 + a*np.cos(x) + 2*b*np.cos(2*x) + 3*c*np.cos(3*x) +  4*d*np.cos(4*x)"
   ]
  },
  {
   "cell_type": "markdown",
   "metadata": {},
   "source": [
    "And finally  we define the right side of the ODE system mentioned earlier"
   ]
  },
  {
   "cell_type": "code",
   "execution_count": 4,
   "metadata": {},
   "outputs": [],
   "source": [
    "def F(t,u, a = 0, b = 0, c = 0, d = 0):\n",
    "    '''\n",
    "    u = (x,v)\n",
    "    It's a straight forward implementation of the rhs of the system of ODEs\n",
    "    '''\n",
    "    x,v = u\n",
    "    sintheta = -df(x,a,b,c,d)/np.sqrt(1+df(x,a,b,c,d)**2)\n",
    "    costheta = 1/np.sqrt(1+df(x,a,b,c,d)**2)\n",
    "    dx = v*costheta\n",
    "    dv = g*sintheta\n",
    "\n",
    "    return np.array([dx, dv])"
   ]
  },
  {
   "cell_type": "markdown",
   "metadata": {},
   "source": [
    "We can now try to solve for a particular $f(x)$"
   ]
  },
  {
   "cell_type": "code",
   "execution_count": 5,
   "metadata": {},
   "outputs": [
    {
     "name": "stdout",
     "output_type": "stream",
     "text": [
      "1.0800000000000007\n"
     ]
    },
    {
     "data": {
      "text/plain": [
       "Text(0, 0.5, 'Position')"
      ]
     },
     "execution_count": 5,
     "metadata": {},
     "output_type": "execute_result"
    },
    {
     "data": {
      "image/png": "[encoded data removed]",
      "text/plain": [
       "<Figure size 432x288 with 1 Axes>"
      ]
     },
     "metadata": {
      "needs_background": "light"
     },
     "output_type": "display_data"
    }
   ],
   "source": [
    "times, us = rungeKutta4(F, [0,0], np.pi, 0, 10e-3,[-0.3, -0.1, 0, 0])\n",
    "print(times[-1])\n",
    "plt.plot(times, us[:,0])\n",
    "plt.xlabel('Time')\n",
    "plt.ylabel('Position')"
   ]
  },
  {
   "cell_type": "markdown",
   "metadata": {},
   "source": [
    "And visualize the curve it folowed"
   ]
  },
  {
   "cell_type": "code",
   "execution_count": 6,
   "metadata": {},
   "outputs": [
    {
     "data": {
      "text/plain": [
       "[<matplotlib.lines.Line2D at 0x7f7a94c74be0>]"
      ]
     },
     "execution_count": 6,
     "metadata": {},
     "output_type": "execute_result"
    },
    {
     "data": {
      "image/png": "[encoded data removed]",
      "text/plain": [
       "<Figure size 432x288 with 1 Axes>"
      ]
     },
     "metadata": {
      "needs_background": "light"
     },
     "output_type": "display_data"
    }
   ],
   "source": [
    "x = np.linspace(0,np.pi, 100)\n",
    "plt.plot(x, f(x, -0.3, -0.1, 0, 0))"
   ]
  },
  {
   "cell_type": "markdown",
   "metadata": {},
   "source": []
  },
  {
   "cell_type": "markdown",
   "metadata": {},
   "source": [
    "Now that we have a working algorithm that integrates $x(t)$ up to $x =  \\pi$, we need to optimize $T(a,b,c,d)$, the total time taken to reach $x = \\pi$ with respect to the coeficients of the $\\sin$ functions.\n",
    "\n",
    "We first define a function that is basically a modification of the RK4 method that only outputs the final time taken"
   ]
  },
  {
   "cell_type": "code",
   "execution_count": 7,
   "metadata": {},
   "outputs": [],
   "source": [
    "def finalT(operator, initCond, finalPos, initTime, dt, *args):\n",
    "    a, b, c, d = args #This probably not the cleanest way to deal with the arguments\n",
    "    \n",
    "    times = [initTime]\n",
    "    solut = [initCond]\n",
    "\n",
    "    #Because we drop the ball from position x = 0  with null velocity\n",
    "    #It will only move forward. We will run the script until\n",
    "    #the ball reaches the desired finalPos or if it stops before (check if velocity falls under threshold)\n",
    "\n",
    "    while solut[-1][0] <= finalPos:\n",
    "        k1 = dt * operator(times[-1], solut[-1], a, b, c, d)\n",
    "        k2 = dt * operator(times[-1] + dt/2, solut[-1] + k1/2, a, b, c, d)\n",
    "        k3 = dt * operator(times[-1] + dt/2, solut[-1] + k2/2, a, b, c, d)\n",
    "        k4 = dt * operator(times[-1] + dt, solut[-1] + k3, a, b, c, d)\n",
    "        solut.append(solut[-1] + (k1 + 2*k2 + 2*k3 + k4)/6)\n",
    "        times.append(times[-1]+dt)\n",
    "        if times[-1] > 10:\n",
    "            return times[-1]\n",
    "    return times[-1]"
   ]
  },
  {
   "cell_type": "markdown",
   "metadata": {},
   "source": [
    "We can visualize the curve made by varying two of the four parameters"
   ]
  },
  {
   "cell_type": "code",
   "execution_count": 8,
   "metadata": {},
   "outputs": [
    {
     "data": {
      "text/plain": [
       "[<matplotlib.lines.Line2D at 0x7f7a94db3ac0>]"
      ]
     },
     "execution_count": 8,
     "metadata": {},
     "output_type": "execute_result"
    },
    {
     "data": {
      "image/png": "[encoded data removed]",
      "text/plain": [
       "<Figure size 432x288 with 1 Axes>"
      ]
     },
     "metadata": {
      "needs_background": "light"
     },
     "output_type": "display_data"
    }
   ],
   "source": [
    "a = np.linspace(-0.5,0, 50)\n",
    "b = np.linspace(-0.8,0,10)\n",
    "\n",
    "\n",
    "T = np.zeros_like(a)\n",
    "\n",
    "for i, ai in enumerate(a):\n",
    "    T[i] = finalT(F, [0,0], np.pi,  0, 1e-3, 0, ai, 0, 0)\n",
    "\n",
    "plt.plot(a, T)"
   ]
  },
  {
   "cell_type": "markdown",
   "metadata": {},
   "source": [
    "This time function, let's  call it $T(a,b,c,d)$ is not  smooth, probably convex, and not diferentiable. This means that algorithms such as gradient descent are not even usable.\n",
    "\n",
    "To optimize this function we could use interpolation, although 4 dimensional interpolation would be difficult due to having too many parameters in the cuadratics. Then, we are left with the Nelder-Mead algorithm, which was implemented in the Smart Traffic Lights class."
   ]
  },
  {
   "cell_type": "code",
   "execution_count": 9,
   "metadata": {},
   "outputs": [],
   "source": [
    "def NelderMeadMaximisationStep(functToUse, simplex, valueSimplex):\n",
    "    \n",
    "    dimension = len(valueSimplex)-1\n",
    "    \n",
    "    ## 1. Ordering Step\n",
    "    simplexSortingIndices = valueSimplex.argsort()              # Finds the sequence of indices to sort the values\n",
    "    valueSimplex          = valueSimplex[simplexSortingIndices] # Orders the values at the vertices by increasing value\n",
    "    simplex               = simplex[:,simplexSortingIndices]    # Orders the vertices of the simplex by increasing function value\n",
    "\n",
    "    ## 2. Centroid step\n",
    "    centroid = np.sum(simplex[:,1:], axis=1)/dimension    # Finds the centroid of all vertices except worst performing one\n",
    "\n",
    "    ## 3. Reflection step\n",
    "    reflected = 2.0*centroid-simplex[:,0]    # Finds the reflected point\n",
    "    valueReflected = functToUse(reflected)   # Evaluates the function at the reflected point\n",
    "\n",
    "    ## 4. Test reflected point\n",
    "    if (valueReflected > valueSimplex[1] and valueReflected <= valueSimplex[-1]):\n",
    "        simplex[:,0]    = reflected\n",
    "        valueSimplex[0] = valueReflected\n",
    "        return simplex, valueSimplex\n",
    "        \n",
    "    ## 5. Expansion step\n",
    "    if (valueReflected > valueSimplex[-1]):\n",
    "        expansion = -centroid+2.0*reflected      # Finds the expansion point\n",
    "        valueExpansion = functToUse(expansion)   # Evaluates the function at the expansion point\n",
    "\n",
    "    ## 6. Test expansion point\n",
    "        if (valueExpansion > valueReflected):\n",
    "            simplex[:,0]    = expansion\n",
    "            valueSimplex[0] = valueExpansion\n",
    "            return simplex, valueSimplex\n",
    "        else:\n",
    "            simplex[:,0]    = reflected\n",
    "            valueSimplex[0] = valueReflected\n",
    "            return simplex, valueSimplex\n",
    "\n",
    "    ## 7. Contraction step\n",
    "    contraction = 0.5*centroid+0.5*simplex[:,0]    # Finds the contraction point\n",
    "    valueContraction = functToUse(contraction)     # Evaluates the function at the contraction point\n",
    "\n",
    "    ## 8. Test contraction step\n",
    "    if (valueContraction > valueSimplex[0]):\n",
    "        simplex[:,0]    = contraction\n",
    "        valueSimplex[0] = valueContraction\n",
    "        return simplex, valueSimplex\n",
    "   \n",
    "    ## 9. Shrink step\n",
    "    simplex[:,:-1]    = (0.5*simplex[:,:-1].T + 0.5*simplex[:,-1]).T\n",
    "    valueSimplex[:-1] = functToUse(simplex[:,:-1])  \n",
    "    return simplex, valueSimplex\n",
    "\n",
    "\n",
    "def NelderMeadMaximisation(functToUse, initialSimplex, positionToleranceAbsolute, \n",
    "                               valueToleranceAbsolute, maxNumberIteration):\n",
    "\n",
    "    dimension = len(initialSimplex)\n",
    "    \n",
    "    simplex = np.copy(initialSimplex)    # Constructs initial coordinates of the simplex\n",
    "    valueSimplex = functToUse(simplex)   # Evaluates the function to maximise on the vertices of the simplex\n",
    "\n",
    "    newPosAverage   = np.sum(simplex,axis=1)/(dimension+1)\n",
    "    newValueAverage = np.sum(valueSimplex)/(dimension+1)\n",
    "\n",
    "    positionError  = 10 * abs(positionToleranceAbsolute) + 1\n",
    "    valueError     = 10 * abs(valueToleranceAbsolute) + 1\n",
    "\n",
    "    iteration = 0\n",
    "    \n",
    "    while (positionError > positionToleranceAbsolute and valueError > valueToleranceAbsolute) \\\n",
    "            and iteration < maxNumberIteration:\n",
    "        print('Iteration: '+str(iteration))\n",
    "        iteration += 1\n",
    "        oldPosAverage   = newPosAverage\n",
    "        oldValueAverage = newValueAverage\n",
    "        simplex, valueSimplex = NelderMeadMaximisationStep(functToUse, simplex, valueSimplex)\n",
    "\n",
    "        newPosAverage   = np.sum(simplex,axis=1)/(dimension+1)\n",
    "        newValueAverage = np.sum(valueSimplex)/(dimension+1)\n",
    "\n",
    "        positionError =np.linalg.norm(newPosAverage-oldPosAverage)\n",
    "        valueError = np.abs(newValueAverage-oldValueAverage)\n",
    "    \n",
    "    return simplex[:,-1], valueSimplex[-1], iteration"
   ]
  },
  {
   "cell_type": "markdown",
   "metadata": {},
   "source": [
    "To be able to use this algorithm, we have to vectorise the function finalT that we defined before. It's quite straight forward to do so. Also, because this is a Maximization method, we can just use it with -finalT."
   ]
  },
  {
   "cell_type": "markdown",
   "metadata": {},
   "source": [
    "To make this work we should make finalT only take as an argument an array of parameter (4,N). It should have as an output an array (N) with the times taken to reach $x = \\pi$. So we are going to fix the other parameters currently present in finalT."
   ]
  },
  {
   "cell_type": "code",
   "execution_count": 10,
   "metadata": {},
   "outputs": [],
   "source": [
    "def finalT_vec(params, initCond = [0,0], finalPos = np.pi, initTime = 0, dt = 1e-4):\n",
    "    a, b, c, d = params #This probably not the cleanest way to deal with the arguments\n",
    "    dim = np.ndim(a)\n",
    "\n",
    "    if dim == 0:\n",
    "        #If the input is a 1D array of 4 parameters we need to treat it as a special case, no different from the finalT function previously defined\n",
    "        times = [initTime]\n",
    "        solut = [initCond]\n",
    "\n",
    "        while solut[-1][0] <= finalPos and times[-1] < 2:\n",
    "            k1 = dt * F(times[-1], solut[-1], a, b, c, d)\n",
    "            k2 = dt * F(times[-1] + dt/2, solut[-1] + k1/2, a, b, c, d)\n",
    "            k3 = dt * F(times[-1] + dt/2, solut[-1] + k2/2, a, b, c, d)\n",
    "            k4 = dt * F(times[-1] + dt, solut[-1] + k3, a, b, c, d)\n",
    "            solut.append(solut[-1] + (k1 + 2*k2 + 2*k3 + k4)/6)\n",
    "            times.append(times[-1]+dt)\n",
    "            \n",
    "        return -times[-1]\n",
    "    else:\n",
    "        #If the input is a (4,N) array we  can iterate through the number of dimensions like this\n",
    "        N = len(a)\n",
    "        final_times = []\n",
    "        for i in range(N):\n",
    "            ai = a[i]\n",
    "            bi = b[i]\n",
    "            ci = c[i]\n",
    "            di = d[i]\n",
    "\n",
    "            times = [initTime]\n",
    "            solut = [initCond]\n",
    "\n",
    "            while solut[-1][0] <= finalPos and times[-1] < 2:\n",
    "                k1 = dt * F(times[-1], solut[-1], ai, bi, ci, di)\n",
    "                k2 = dt * F(times[-1] + dt/2, solut[-1] + k1/2, ai, bi, ci, di)\n",
    "                k3 = dt * F(times[-1] + dt/2, solut[-1] + k2/2, ai, bi, ci, di)\n",
    "                k4 = dt * F(times[-1] + dt, solut[-1] + k3, ai, bi, ci, di)\n",
    "                solut.append(solut[-1] + (k1 + 2*k2 + 2*k3 + k4)/6)\n",
    "                times.append(times[-1]+dt)\n",
    "            final_times.append(-times[-1])\n",
    "\n",
    "        return np.array(final_times)"
   ]
  },
  {
   "cell_type": "markdown",
   "metadata": {},
   "source": [
    "Now for some reason the NM method in this case is very dependent on the initial simplex  chosen. This next cell takes about 50 seconds to run. It can be shortened to around 10 seconds if dt is streched to $dt =  1e-3$, but a bit of precission is lost"
   ]
  },
  {
   "cell_type": "code",
   "execution_count": 11,
   "metadata": {},
   "outputs": [
    {
     "name": "stdout",
     "output_type": "stream",
     "text": [
      "Iteration: 0\n",
      "Iteration: 1\n",
      "Iteration: 2\n",
      "Iteration: 3\n",
      "Iteration: 4\n",
      "Iteration: 5\n",
      "Iteration: 6\n",
      "Iteration: 7\n",
      "Iteration: 8\n",
      "Iteration: 9\n",
      "Iteration: 10\n",
      "Iteration: 11\n",
      "Iteration: 12\n"
     ]
    }
   ],
   "source": [
    "initialSimplex = np.array([[-0.7, 0 , 0],\n",
    "                           [-0.5, 0, 0], \n",
    "                           [0, -0.4, 0],\n",
    "                           [0 , 0 , -0.3]])\n",
    "\n",
    "output = NelderMeadMaximisation(finalT_vec, initialSimplex, 1e-6, 1e-6, 30)\n",
    "parameters = output[0]"
   ]
  },
  {
   "cell_type": "code",
   "execution_count": 12,
   "metadata": {},
   "outputs": [
    {
     "data": {
      "text/plain": [
       "[<matplotlib.lines.Line2D at 0x7f7a94e45f10>]"
      ]
     },
     "execution_count": 12,
     "metadata": {},
     "output_type": "execute_result"
    },
    {
     "data": {
      "image/png": "[encoded data removed]",
      "text/plain": [
       "<Figure size 432x288 with 1 Axes>"
      ]
     },
     "metadata": {
      "needs_background": "light"
     },
     "output_type": "display_data"
    }
   ],
   "source": [
    "parameters\n",
    "x = np.linspace(0,np.pi, 100)\n",
    "plt.plot(x, f(x,parameters[0], parameters[1], parameters[2], parameters[3]))"
   ]
  },
  {
   "cell_type": "code",
   "execution_count": null,
   "metadata": {},
   "outputs": [],
   "source": []
  }
 ],
 "metadata": {
  "interpreter": {
   "hash": "ea726e29c705b3adf3278d9a3fcdd910637fbf46b3d421587a1a3f651e95b1c8"
  },
  "kernelspec": {
   "display_name": "Python 3 (ipykernel)",
   "language": "python",
   "name": "python3"
  },
  "language_info": {
   "codemirror_mode": {
    "name": "ipython",
    "version": 3
   },
   "file_extension": ".py",
   "mimetype": "text/x-python",
   "name": "python",
   "nbconvert_exporter": "python",
   "pygments_lexer": "ipython3",
   "version": "3.8.13"
  }
 },
 "nbformat": 4,
 "nbformat_minor": 2
}
